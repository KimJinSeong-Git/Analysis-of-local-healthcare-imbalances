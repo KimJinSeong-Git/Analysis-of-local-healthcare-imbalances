{
 "cells": [
  {
   "cell_type": "code",
   "execution_count": null,
   "metadata": {},
   "outputs": [],
   "source": [
    "import googlemaps"
   ]
  },
  {
   "cell_type": "code",
   "execution_count": null,
   "metadata": {},
   "outputs": [],
   "source": [
    "myKey = \"zz\"\n",
    "maps = googlemaps.Client(key = myKey)\n",
    "\n",
    "def getGeo(addr):    \n",
    "    gmaps = googlemaps.Client(myKey)  \n",
    "    geocode_result = gmaps.geocode(addr)   \n",
    "    n_lat = geocode_result[0]['geometry']['location']['lat']\n",
    "    n_lng = geocode_result[0]['geometry']['location']['lng']\n",
    "\n",
    "    return n_lat, n_lng"
   ]
  },
  {
   "cell_type": "code",
   "execution_count": null,
   "metadata": {},
   "outputs": [],
   "source": [
    "SSG = pd.read_excel(\"./data/SSG_base.xlsx\")\n",
    "\n",
    "lat = []    # 위도\n",
    "lng = []    # 경도\n",
    "\n",
    "for idx in range(len(SSG)):\n",
    "    cur_SD = SSG.iloc[idx][\"시도\"]\n",
    "    cur_SSG = SSG.iloc[idx][\"시군구\"]\n",
    "    cur_name = cur_SD + \" \" + cur_SSG\n",
    "    cur_lat, cur_lng = getGeo(cur_name)\n",
    "    lat.append(cur_lat)\n",
    "    lng.append(cur_lng)\n",
    "    \n",
    "print(lat)\n",
    "print(lng)"
   ]
  },
  {
   "cell_type": "code",
   "execution_count": null,
   "metadata": {},
   "outputs": [],
   "source": [
    "print(len(lat))\n",
    "print(len(lng))\n",
    "\n",
    "SSG[\"lat\"] = lat\n",
    "SSG[\"lng\"] = lng\n",
    "SSG.to_excel(\"./data/SSG_processed.xlsx\")\n",
    "print(SSG)"
   ]
  }
 ],
 "metadata": {
  "language_info": {
   "name": "python"
  },
  "orig_nbformat": 4
 },
 "nbformat": 4,
 "nbformat_minor": 2
}
