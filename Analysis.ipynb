{
 "cells": [
  {
   "cell_type": "code",
   "execution_count": 1,
   "metadata": {},
   "outputs": [],
   "source": [
    "import pandas as pd\n",
    "import numpy as np\n",
    "import googlemaps\n",
    "import os"
   ]
  },
  {
   "cell_type": "markdown",
   "metadata": {},
   "source": [
    "### 데이터 불러오기"
   ]
  },
  {
   "cell_type": "code",
   "execution_count": 10,
   "metadata": {},
   "outputs": [],
   "source": [
    "BNC = pd.read_csv(\"./data/NSC2_BNC_1619.CSV\", usecols=[ \"RN_INDI\", \"STD_YYYY\", \"SGG\"])            # RN_INDI, STD_YYYY, SGG\n",
    "INST = pd.read_csv(\"./data/NSC2_INST_1619.CSV\", usecols=[\"STD_YYYY\", \"RN_INST\", \"SGG_INST\"])     # STD_YYYY, RN_INST, SGG_INST"
   ]
  },
  {
   "cell_type": "code",
   "execution_count": 11,
   "metadata": {},
   "outputs": [
    {
     "name": "stdout",
     "output_type": "stream",
     "text": [
      "NSC2_D20_1619.CSV불러오기 시작\n",
      "완료\n",
      "NSC2_K20_1619.CSV불러오기 시작\n",
      "완료\n",
      "NSC2_M20_1619.CSV불러오기 시작\n",
      "완료\n",
      "NSC2_P20_1619.CSV불러오기 시작\n",
      "완료\n"
     ]
    }
   ],
   "source": [
    "T20_dir = \"./data/20T\"\n",
    "T20_list= os.listdir(T20_dir)\n",
    "T20 = pd.DataFrame(columns=[\"RN_INDI\", \"RN_INST\", \"MCARE_SUBJ_CD\", \"STD_YYYY\"])\n",
    "for name in T20_list:\n",
    "    print(name + \"불러오기 시작\")\n",
    "    temp = pd.read_csv(T20_dir + \"/\" + name, usecols=[\"RN_INDI\", \"RN_INST\", \"MCARE_SUBJ_CD\", \"STD_YYYY\"])  # RN_INDI, RN_INST,MCARE_SUBJ_CD, STD_YYYY\n",
    "    temp.drop(index=0, axis=0)\n",
    "    T20 = pd.concat([T20, temp])\n",
    "    print(\"완료\")\n",
    "T20 = T20[[\"STD_YYYY\", \"RN_INDI\", \"RN_INST\", \"MCARE_SUBJ_CD\"]]"
   ]
  },
  {
   "attachments": {},
   "cell_type": "markdown",
   "metadata": {},
   "source": [
    "### 중복제거 및 2019년 필터링"
   ]
  },
  {
   "cell_type": "code",
   "execution_count": 15,
   "metadata": {},
   "outputs": [],
   "source": [
    "# BNC = BNC.drop_duplicates(\"RN_INDI\")\n",
    "INST = INST.drop_duplicates(\"RN_INST\").sort_values(by=\"STD_YYYY\", axis=0, ascending=False).reset_index(drop=True)\n",
    "BNC = BNC[[\"STD_YYYY\", \"RN_INDI\", \"SGG\"]]\n",
    "\n",
    "BNC2019 = BNC[BNC[\"STD_YYYY\"] == 2019].sort_values(by=['RN_INDI'], axis=0).reset_index(drop=True)\n",
    "INST2019 = INST[INST[\"STD_YYYY\"] == 2019].sort_values(by=['RN_INST'], axis=0).reset_index(drop=True)\n",
    "T202019 = T20[T20[\"STD_YYYY\"] == 2019].sort_values(by=['RN_INDI'], axis=0).reset_index(drop=True)"
   ]
  },
  {
   "cell_type": "code",
   "execution_count": 16,
   "metadata": {},
   "outputs": [
    {
     "name": "stdout",
     "output_type": "stream",
     "text": [
      "BNC\n",
      "   STD_YYYY  RN_INDI    SGG\n",
      "0      2019     1433  41190\n",
      "1      2019     3085  29200\n",
      "2      2019     4316  28177\n",
      "3      2019     4392  29200\n",
      "4      2019     6088  27290\n",
      "\n",
      "INST\n",
      "   STD_YYYY  RN_INST  SGG_INST\n",
      "0      2019        1     11290\n",
      "1      2019        2     11230\n",
      "2      2019        4     41111\n",
      "3      2019        6     11260\n",
      "4      2019       11     11140\n",
      "\n",
      "T20\n",
      "      STD_YYYY  RN_INDI RN_INST MCARE_SUBJ_CD\n",
      "0         2019     1433   79512             0\n",
      "1         2019     1433   79512             0\n",
      "2         2019     1433   79512             0\n",
      "3         2019     1433   79512             0\n",
      "4         2019     1433   79512             0\n",
      "...        ...      ...     ...           ...\n",
      "27322     2019  3000758  161290             0\n",
      "27323     2019  3000758   52897            11\n",
      "27324     2019  3000758   52897            11\n",
      "27325     2019  3000758  161290             0\n",
      "27326     2019  3000758   93343            12\n",
      "\n",
      "[27327 rows x 4 columns]\n"
     ]
    }
   ],
   "source": [
    "print(\"BNC\")\n",
    "print(BNC2019.head())\n",
    "\n",
    "print(\"\\nINST\")\n",
    "print(INST2019.head())\n",
    "\n",
    "print(\"\\nT20\")\n",
    "print(T202019)"
   ]
  },
  {
   "cell_type": "markdown",
   "metadata": {},
   "source": [
    "### 결과데이터에 개인주소지 및 기관주소지 추가 + 이상치( 정보데이터가 없거나 주소지와 방문기관주소지가 같은 관측치 ) 제거"
   ]
  },
  {
   "cell_type": "code",
   "execution_count": 17,
   "metadata": {},
   "outputs": [
    {
     "name": "stdout",
     "output_type": "stream",
     "text": [
      "27327 개의 데이터가 있습니다.\n",
      "처리중............................완료\n"
     ]
    }
   ],
   "source": [
    "inputData = T202019.copy()\n",
    "compare_BNC = BNC2019.copy()\n",
    "compare_INST = INST2019.copy()\n",
    "compare_INST = INST.copy()\n",
    "\n",
    "result_SSG = []\n",
    "result_SSG_INST = []\n",
    "print(str(len(inputData)) + \" 개의 데이터가 있습니다.\")\n",
    "print(\"처리중\", end='')\n",
    "\n",
    "for idx in range(len(inputData)):\n",
    "    if(idx%1000==0):\n",
    "        print(\".\", end='')\n",
    "    localValue_INDI = inputData.iloc[idx][\"RN_INDI\"]\n",
    "    localValue_INST = inputData.iloc[idx][\"RN_INST\"]\n",
    "    SGG_idx = compare_BNC.index[(compare_BNC[\"RN_INDI\"] == localValue_INDI)][0]\n",
    "\n",
    "    # 값 없는 부분 예외처리\n",
    "    try:\n",
    "        SGG_INST_idx = compare_INST.index[(compare_INST[\"RN_INST\"] == localValue_INST)][0]\n",
    "    except:\n",
    "        SGG_INST_idx = -1\n",
    "\n",
    "    # 결과 데이터 저장( Append )\n",
    "    result_SSG.append(compare_BNC.iloc[SGG_idx][\"SGG\"])\n",
    "\n",
    "    if(SGG_INST_idx != -1):\n",
    "        result_SSG_INST.append(compare_INST.iloc[SGG_INST_idx][\"SGG_INST\"])\n",
    "    else:\n",
    "        result_SSG_INST.append(\"-1\")\n",
    "\n",
    "result_data = inputData.copy()\n",
    "result_data[\"SSG\"] = result_SSG\n",
    "result_data[\"SSG_INST\"] = result_SSG_INST\n",
    "\n",
    "delete_idx = result_data.index[(result_data[\"SSG_INST\"] == \"-1\")]\n",
    "result_data = result_data.drop(delete_idx)\n",
    "\n",
    "delete_idx = result_data.index[(result_data[\"SSG\"] == result_data[\"SSG_INST\"])]\n",
    "result_data = result_data.drop(delete_idx).reset_index(drop=True)\n",
    "\n",
    "print(\"완료\")"
   ]
  },
  {
   "cell_type": "markdown",
   "metadata": {},
   "source": [
    "### 파일저장"
   ]
  },
  {
   "cell_type": "code",
   "execution_count": 98,
   "metadata": {},
   "outputs": [],
   "source": [
    "# result_data.to_json(\"test.json\", orient='table')"
   ]
  },
  {
   "cell_type": "markdown",
   "metadata": {},
   "source": [
    "### 위도 경도 데이터 구성\n"
   ]
  },
  {
   "cell_type": "code",
   "execution_count": 18,
   "metadata": {},
   "outputs": [],
   "source": [
    "import math"
   ]
  },
  {
   "cell_type": "code",
   "execution_count": 75,
   "metadata": {},
   "outputs": [
    {
     "name": "stdout",
     "output_type": "stream",
     "text": [
      "  STD_YYYY RN_INDI RN_INST MCARE_SUBJ_CD    SSG  SSG_INST\n",
      "0     2019    1433   79512             0  41190     41195\n",
      "1     2019    1433   79512             0  41190     41195\n",
      "2     2019    1433   79512             0  41190     41195\n",
      "3     2019    1433   79512             0  41190     41195\n",
      "4     2019    1433   79512             0  41190     41195\n",
      "     SSG     시도  시군구        lat         lng\n",
      "0  11110  서울특별시  종로구  37.572950  126.979358\n",
      "1  11140  서울특별시   중구  37.564091  126.997940\n",
      "2  11170  서울특별시  용산구  37.538427  126.965444\n",
      "3  11200  서울특별시  성동구  37.563341  127.037103\n",
      "4  11215  서울특별시  광진구  37.538484  127.082294\n"
     ]
    }
   ],
   "source": [
    "data_base = result_data.copy()\n",
    "location_table = pd.read_excel(\"./data/SSG_processed.xlsx\").astype({\"SSG\": int})\n",
    "\n",
    "print(data_base.head())\n",
    "print(location_table.head())"
   ]
  },
  {
   "cell_type": "code",
   "execution_count": 74,
   "metadata": {},
   "outputs": [
    {
     "name": "stdout",
     "output_type": "stream",
     "text": [
      "28177\n"
     ]
    }
   ],
   "source": [
    "INST_SSG = data_base.iloc[idx][\"SSG_INST\"]\n",
    "print(INST_SSG)"
   ]
  },
  {
   "cell_type": "code",
   "execution_count": 72,
   "metadata": {},
   "outputs": [
    {
     "data": {
      "text/plain": [
       "241"
      ]
     },
     "execution_count": 72,
     "metadata": {},
     "output_type": "execute_result"
    }
   ],
   "source": [
    "location_table.index[(location_table[\"SSG\"] == INDI_SSG)][0]"
   ]
  },
  {
   "cell_type": "code",
   "execution_count": 76,
   "metadata": {},
   "outputs": [
    {
     "name": "stdout",
     "output_type": "stream",
     "text": [
      "9730 개의 데이터가 있습니다.\n",
      "처리중....................끝!\n"
     ]
    }
   ],
   "source": [
    "distance = []\n",
    "\n",
    "print(str(len(data_base)) + \" 개의 데이터가 있습니다.\")\n",
    "print(\"처리중\", end='')\n",
    "for idx in range(len(data_base)):\n",
    "    if(idx%500 == 0):\n",
    "        print(\".\", end='')\n",
    "    INDI_SSG = data_base.iloc[idx][\"SSG\"]\n",
    "    INDI_SGG_idx = location_table.index[(location_table[\"SSG\"] == INDI_SSG)][0]\n",
    "    INDI_lat = location_table.iloc[INDI_SGG_idx][\"lat\"]\n",
    "    INDI_lng = location_table.iloc[INDI_SGG_idx][\"lng\"]\n",
    "\n",
    "    INST_SSG = data_base.iloc[idx][\"SSG_INST\"]\n",
    "    INST_SGG_idx = location_table.index[(location_table[\"SSG\"] == INST_SSG)][0]\n",
    "    INST_lat = location_table.iloc[INST_SGG_idx][\"lat\"]\n",
    "    INST_lng = location_table.iloc[INST_SGG_idx][\"lng\"]\n",
    "\n",
    "    cal_result = math.sqrt(((INDI_lat-INST_lat)*111)**2 + ((INDI_lng-INST_lng)*88.8)**2)\n",
    "    # print( \"{( \" + str(INDI_lat) + \" - \" + str(INST_lat) + \" ) x 111}^2 {(\" + str(INDI_lng) + \" - \" + str(INST_lng) + \") x 88.8 }**2\" )\n",
    "\n",
    "    distance.append(round(cal_result,3))\n",
    "print(\"끝!\")\n",
    "result = data_base.copy()\n",
    "result[\"DISTANCE\"] = distance"
   ]
  },
  {
   "cell_type": "code",
   "execution_count": 78,
   "metadata": {},
   "outputs": [
    {
     "name": "stdout",
     "output_type": "stream",
     "text": [
      "  STD_YYYY RN_INDI RN_INST MCARE_SUBJ_CD    SSG  SSG_INST  DISTANCE\n",
      "0     2019    1433   79512             0  41190     41195       0.0\n",
      "1     2019    1433   79512             0  41190     41195       0.0\n",
      "2     2019    1433   79512             0  41190     41195       0.0\n",
      "3     2019    1433   79512             0  41190     41195       0.0\n",
      "4     2019    1433   79512             0  41190     41195       0.0\n"
     ]
    }
   ],
   "source": [
    "print(result.head())\n",
    "result.to_excel(\"Analysis Result.xlsx\")"
   ]
  },
  {
   "cell_type": "code",
   "execution_count": 81,
   "metadata": {},
   "outputs": [
    {
     "data": {
      "text/html": [
       "<div>\n",
       "<style scoped>\n",
       "    .dataframe tbody tr th:only-of-type {\n",
       "        vertical-align: middle;\n",
       "    }\n",
       "\n",
       "    .dataframe tbody tr th {\n",
       "        vertical-align: top;\n",
       "    }\n",
       "\n",
       "    .dataframe thead th {\n",
       "        text-align: right;\n",
       "    }\n",
       "</style>\n",
       "<table border=\"1\" class=\"dataframe\">\n",
       "  <thead>\n",
       "    <tr style=\"text-align: right;\">\n",
       "      <th></th>\n",
       "      <th>SSG</th>\n",
       "      <th>시도</th>\n",
       "      <th>시군구</th>\n",
       "    </tr>\n",
       "  </thead>\n",
       "  <tbody>\n",
       "    <tr>\n",
       "      <th>0</th>\n",
       "      <td>11110</td>\n",
       "      <td>서울특별시</td>\n",
       "      <td>종로구</td>\n",
       "    </tr>\n",
       "    <tr>\n",
       "      <th>1</th>\n",
       "      <td>11140</td>\n",
       "      <td>서울특별시</td>\n",
       "      <td>중구</td>\n",
       "    </tr>\n",
       "    <tr>\n",
       "      <th>2</th>\n",
       "      <td>11170</td>\n",
       "      <td>서울특별시</td>\n",
       "      <td>용산구</td>\n",
       "    </tr>\n",
       "    <tr>\n",
       "      <th>3</th>\n",
       "      <td>11200</td>\n",
       "      <td>서울특별시</td>\n",
       "      <td>성동구</td>\n",
       "    </tr>\n",
       "    <tr>\n",
       "      <th>4</th>\n",
       "      <td>11215</td>\n",
       "      <td>서울특별시</td>\n",
       "      <td>광진구</td>\n",
       "    </tr>\n",
       "  </tbody>\n",
       "</table>\n",
       "</div>"
      ],
      "text/plain": [
       "     SSG     시도  시군구\n",
       "0  11110  서울특별시  종로구\n",
       "1  11140  서울특별시   중구\n",
       "2  11170  서울특별시  용산구\n",
       "3  11200  서울특별시  성동구\n",
       "4  11215  서울특별시  광진구"
      ]
     },
     "execution_count": 81,
     "metadata": {},
     "output_type": "execute_result"
    }
   ],
   "source": [
    "analysis = pd.read_excel('./data/Result_base.xlsx')\n",
    "analysis.head()"
   ]
  },
  {
   "cell_type": "code",
   "execution_count": 82,
   "metadata": {},
   "outputs": [
    {
     "data": {
      "text/html": [
       "<div>\n",
       "<style scoped>\n",
       "    .dataframe tbody tr th:only-of-type {\n",
       "        vertical-align: middle;\n",
       "    }\n",
       "\n",
       "    .dataframe tbody tr th {\n",
       "        vertical-align: top;\n",
       "    }\n",
       "\n",
       "    .dataframe thead th {\n",
       "        text-align: right;\n",
       "    }\n",
       "</style>\n",
       "<table border=\"1\" class=\"dataframe\">\n",
       "  <thead>\n",
       "    <tr style=\"text-align: right;\">\n",
       "      <th></th>\n",
       "      <th>STD_YYYY</th>\n",
       "      <th>RN_INDI</th>\n",
       "      <th>RN_INST</th>\n",
       "      <th>MCARE_SUBJ_CD</th>\n",
       "      <th>SSG</th>\n",
       "      <th>SSG_INST</th>\n",
       "      <th>DISTANCE</th>\n",
       "    </tr>\n",
       "  </thead>\n",
       "  <tbody>\n",
       "    <tr>\n",
       "      <th>0</th>\n",
       "      <td>2019</td>\n",
       "      <td>1433</td>\n",
       "      <td>79512</td>\n",
       "      <td>0</td>\n",
       "      <td>41190</td>\n",
       "      <td>41195</td>\n",
       "      <td>0.0</td>\n",
       "    </tr>\n",
       "    <tr>\n",
       "      <th>1</th>\n",
       "      <td>2019</td>\n",
       "      <td>1433</td>\n",
       "      <td>79512</td>\n",
       "      <td>0</td>\n",
       "      <td>41190</td>\n",
       "      <td>41195</td>\n",
       "      <td>0.0</td>\n",
       "    </tr>\n",
       "    <tr>\n",
       "      <th>2</th>\n",
       "      <td>2019</td>\n",
       "      <td>1433</td>\n",
       "      <td>79512</td>\n",
       "      <td>0</td>\n",
       "      <td>41190</td>\n",
       "      <td>41195</td>\n",
       "      <td>0.0</td>\n",
       "    </tr>\n",
       "    <tr>\n",
       "      <th>3</th>\n",
       "      <td>2019</td>\n",
       "      <td>1433</td>\n",
       "      <td>79512</td>\n",
       "      <td>0</td>\n",
       "      <td>41190</td>\n",
       "      <td>41195</td>\n",
       "      <td>0.0</td>\n",
       "    </tr>\n",
       "    <tr>\n",
       "      <th>4</th>\n",
       "      <td>2019</td>\n",
       "      <td>1433</td>\n",
       "      <td>79512</td>\n",
       "      <td>0</td>\n",
       "      <td>41190</td>\n",
       "      <td>41195</td>\n",
       "      <td>0.0</td>\n",
       "    </tr>\n",
       "  </tbody>\n",
       "</table>\n",
       "</div>"
      ],
      "text/plain": [
       "  STD_YYYY RN_INDI RN_INST MCARE_SUBJ_CD    SSG  SSG_INST  DISTANCE\n",
       "0     2019    1433   79512             0  41190     41195       0.0\n",
       "1     2019    1433   79512             0  41190     41195       0.0\n",
       "2     2019    1433   79512             0  41190     41195       0.0\n",
       "3     2019    1433   79512             0  41190     41195       0.0\n",
       "4     2019    1433   79512             0  41190     41195       0.0"
      ]
     },
     "execution_count": 82,
     "metadata": {},
     "output_type": "execute_result"
    }
   ],
   "source": [
    "result.head()"
   ]
  },
  {
   "cell_type": "code",
   "execution_count": null,
   "metadata": {},
   "outputs": [],
   "source": [
    "for idx in len(result):\n",
    "    src_SSG = result.iloc[idx][\"SSG\"]\n",
    "    analysys_idx = analysis.index[(analysis[\"SSG\"] == src_SSG)][0]\n",
    "\n",
    "    dst_SSG = result.iloc[idx][\"SSG\"]\n",
    "    analysys_idx = analysis.index[(analysis[\"SSG\"] == src_SSG)][0]\n",
    "\n",
    "\n"
   ]
  }
 ],
 "metadata": {
  "kernelspec": {
   "display_name": "2022-AI-LEC",
   "language": "python",
   "name": "python3"
  },
  "language_info": {
   "codemirror_mode": {
    "name": "ipython",
    "version": 3
   },
   "file_extension": ".py",
   "mimetype": "text/x-python",
   "name": "python",
   "nbconvert_exporter": "python",
   "pygments_lexer": "ipython3",
   "version": "3.10.4"
  },
  "orig_nbformat": 4,
  "vscode": {
   "interpreter": {
    "hash": "79d51a3371ae08580d7e5a1710fb22e6d7d3d4ead0f6b83365bf2ef449404826"
   }
  }
 },
 "nbformat": 4,
 "nbformat_minor": 2
}
