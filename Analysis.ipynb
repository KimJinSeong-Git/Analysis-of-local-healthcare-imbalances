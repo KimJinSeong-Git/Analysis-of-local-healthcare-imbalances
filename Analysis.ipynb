{
 "cells": [
  {
   "cell_type": "code",
   "execution_count": 92,
   "metadata": {},
   "outputs": [],
   "source": [
    "import pandas as pd\n",
    "import numpy as np\n",
    "import googlemaps\n",
    "import os"
   ]
  },
  {
   "cell_type": "markdown",
   "metadata": {},
   "source": [
    "### 데이터 불러오기"
   ]
  },
  {
   "cell_type": "code",
   "execution_count": 93,
   "metadata": {},
   "outputs": [
    {
     "name": "stderr",
     "output_type": "stream",
     "text": [
      "C:\\Users\\Byeo\\anaconda3\\envs\\Lec_DataMining\\lib\\site-packages\\openpyxl\\styles\\stylesheet.py:226: UserWarning: Workbook contains no default style, apply openpyxl's default\n",
      "  warn(\"Workbook contains no default style, apply openpyxl's default\")\n"
     ]
    }
   ],
   "source": [
    "BNC = pd.read_excel(\"./data/NSC2_BNC_1619.xlsx\", usecols=[ \"RN_INDI\", \"STD_YYYY\", \"SGG\"])            # RN_INDI, STD_YYYY, SGG\n",
    "INST = pd.read_excel(\"./data/NSC2_INST_1619.xlsx\", usecols=[\"STD_YYYY\", \"RN_INST\", \"SGG_INST\"])     # STD_YYYY, RN_INST, SGG_INST"
   ]
  },
  {
   "cell_type": "code",
   "execution_count": 94,
   "metadata": {},
   "outputs": [
    {
     "name": "stdout",
     "output_type": "stream",
     "text": [
      "NSC2_D20_1000.xlsx불러오기 시작\n",
      "완료\n",
      "NSC2_K20_1000.xlsx불러오기 시작\n",
      "완료\n",
      "NSC2_M20_1000.xlsx불러오기 시작\n",
      "완료\n",
      "NSC2_P20_1000.xlsx불러오기 시작\n",
      "완료\n"
     ]
    }
   ],
   "source": [
    "T20_dir = \"./data/20T\"\n",
    "T20_list= os.listdir(T20_dir)\n",
    "T20 = pd.DataFrame(columns=[\"RN_INDI\", \"RN_INST\", \"MCARE_SUBJ_CD\", \"STD_YYYY\"])\n",
    "for name in T20_list:\n",
    "    print(name + \"불러오기 시작\")\n",
    "    temp = pd.read_excel(T20_dir + \"/\" + name, usecols=[\"RN_INDI\", \"RN_INST\", \"MCARE_SUBJ_CD\", \"STD_YYYY\"])  # RN_INDI, RN_INST,MCARE_SUBJ_CD, STD_YYYY\n",
    "    temp.drop(index=0, axis=0)\n",
    "    T20 = pd.concat([T20, temp])\n",
    "    print(\"완료\")\n",
    "T20 = T20[[\"STD_YYYY\", \"RN_INDI\", \"RN_INST\", \"MCARE_SUBJ_CD\"]]"
   ]
  },
  {
   "cell_type": "markdown",
   "metadata": {},
   "source": [
    "### 중복제거 및 2015년 필터링"
   ]
  },
  {
   "cell_type": "code",
   "execution_count": 95,
   "metadata": {},
   "outputs": [],
   "source": [
    "# BNC = BNC.drop_duplicates(\"RN_INDI\")\n",
    "INST = INST.drop_duplicates(\"RN_INST\").sort_values(by=\"STD_YYYY\", axis=0, ascending=False).reset_index(drop=True)\n",
    "BNC = BNC[[\"STD_YYYY\", \"RN_INDI\", \"SGG\"]]\n",
    "\n",
    "BNC2019 = BNC[BNC[\"STD_YYYY\"] == \"_x0032_015\"].sort_values(by=['RN_INDI'], axis=0).reset_index(drop=True)\n",
    "INST2019 = INST[INST[\"STD_YYYY\"] == \"_x0032_015\"].sort_values(by=['RN_INST'], axis=0).reset_index(drop=True)\n",
    "T202019 = T20[T20[\"STD_YYYY\"] == \"_x0032_015\"].sort_values(by=['RN_INDI'], axis=0).reset_index(drop=True)"
   ]
  },
  {
   "cell_type": "code",
   "execution_count": 96,
   "metadata": {},
   "outputs": [
    {
     "name": "stdout",
     "output_type": "stream",
     "text": [
      "BNC\n",
      "     STD_YYYY  RN_INDI          SGG\n",
      "0  _x0032_015     2270  _x0034_5111\n",
      "1  _x0032_015     3317  _x0034_1610\n",
      "2  _x0032_015     3690  _x0034_1113\n",
      "3  _x0032_015     4263  _x0034_6790\n",
      "4  _x0032_015     4664  _x0031_1215\n",
      "\n",
      "INST\n",
      "     STD_YYYY  RN_INST     SGG_INST\n",
      "0  _x0032_015       14  _x0034_1131\n",
      "1  _x0032_015       45  _x0034_1410\n",
      "2  _x0032_015       70  _x0033_6110\n",
      "3  _x0032_015       95  _x0033_6110\n",
      "4  _x0032_015      155  _x0031_1560\n",
      "\n",
      "T20\n",
      "         STD_YYYY  RN_INDI RN_INST MCARE_SUBJ_CD\n",
      "0      _x0032_015     2270   72384      _x0035_4\n",
      "1      _x0032_015     3317   65702      _x0031_4\n",
      "2      _x0032_015     3317   44113      _x0030_0\n",
      "3      _x0032_015     3317  114238      _x0031_2\n",
      "4      _x0032_015     3317   44113      _x0030_0\n",
      "...           ...      ...     ...           ...\n",
      "25700  _x0032_015  3001120   78129      _x0030_1\n",
      "25701  _x0032_015  3001120   37310      _x0030_1\n",
      "25702  _x0032_015  3001120   44764      _x0035_5\n",
      "25703  _x0032_015  3001120   78129      _x0030_1\n",
      "25704  _x0032_015  3001120   43021      _x0031_2\n",
      "\n",
      "[25705 rows x 4 columns]\n"
     ]
    }
   ],
   "source": [
    "print(\"BNC\")\n",
    "print(BNC2019.head())\n",
    "\n",
    "print(\"\\nINST\")\n",
    "print(INST2019.head())\n",
    "\n",
    "print(\"\\nT20\")\n",
    "print(T202019)"
   ]
  },
  {
   "cell_type": "markdown",
   "metadata": {},
   "source": [
    "### 결과데이터에 개인주소지 및 기관주소지 추가 + 이상치( 정보데이터가 없거나 주소지와 방문기관주소지가 같은 관측치 ) 제거"
   ]
  },
  {
   "cell_type": "code",
   "execution_count": 97,
   "metadata": {},
   "outputs": [
    {
     "name": "stdout",
     "output_type": "stream",
     "text": [
      "25705 개의 데이터가 있습니다.\n",
      "처리중..........................완료\n"
     ]
    }
   ],
   "source": [
    "inputData = T202015.copy()\n",
    "compare_BNC = BNC2015.copy()\n",
    "compare_INST = INST2015.copy()\n",
    "compare_INST = INST.copy()\n",
    "\n",
    "result_SSG = []\n",
    "result_SSG_INST = []\n",
    "print(str(len(inputData)) + \" 개의 데이터가 있습니다.\")\n",
    "print(\"처리중\", end='')\n",
    "\n",
    "for idx in range(len(inputData)):\n",
    "    if(idx%1000==0):\n",
    "        print(\".\", end='')\n",
    "    localValue_INDI = inputData.iloc[idx][\"RN_INDI\"]\n",
    "    localValue_INST = inputData.iloc[idx][\"RN_INST\"]\n",
    "    SGG_idx = compare_BNC.index[(compare_BNC[\"RN_INDI\"] == localValue_INDI)][0]\n",
    "\n",
    "    # 값 없는 부분 예외처리\n",
    "    try:\n",
    "        SGG_INST_idx = compare_INST.index[(compare_INST[\"RN_INST\"] == localValue_INST)][0]\n",
    "    except:\n",
    "        SGG_INST_idx = -1\n",
    "\n",
    "    # 결과 데이터 저장( Append )\n",
    "    result_SSG.append(compare_BNC.iloc[SGG_idx][\"SGG\"])\n",
    "\n",
    "    if(SGG_INST_idx != -1):\n",
    "        result_SSG_INST.append(compare_INST.iloc[SGG_INST_idx][\"SGG_INST\"])\n",
    "    else:\n",
    "        result_SSG_INST.append(\"-1\")\n",
    "\n",
    "result_data = inputData.copy()\n",
    "result_data[\"SSG\"] = result_SSG\n",
    "result_data[\"SSG_INST\"] = result_SSG_INST\n",
    "\n",
    "delete_idx = result_data.index[(result_data[\"SSG_INST\"] == \"-1\")]\n",
    "result_data = result_data.drop(delete_idx)\n",
    "\n",
    "delete_idx = result_data.index[(result_data[\"SSG\"] == result_data[\"SSG_INST\"])]\n",
    "result_data = result_data.drop(delete_idx).reset_index(drop=True)\n",
    "\n",
    "print(\"완료\")\n"
   ]
  },
  {
   "cell_type": "markdown",
   "metadata": {},
   "source": [
    "### 파일저장"
   ]
  },
  {
   "cell_type": "code",
   "execution_count": 98,
   "metadata": {},
   "outputs": [],
   "source": [
    "# result_data.to_json(\"test.json\", orient='table')"
   ]
  },
  {
   "cell_type": "markdown",
   "metadata": {},
   "source": [
    "### 위도 경도 데이터 구성\n"
   ]
  },
  {
   "cell_type": "code",
   "execution_count": 99,
   "metadata": {},
   "outputs": [],
   "source": [
    "import math"
   ]
  },
  {
   "cell_type": "code",
   "execution_count": 146,
   "metadata": {},
   "outputs": [
    {
     "name": "stdout",
     "output_type": "stream",
     "text": [
      "     STD_YYYY RN_INDI RN_INST MCARE_SUBJ_CD          SSG     SSG_INST\n",
      "0  _x0032_015    3690   19717      _x0030_0  _x0034_1113  _x0034_4133\n",
      "1  _x0032_015    3690   18640      _x0030_0  _x0034_1113  _x0034_1590\n",
      "2  _x0032_015    3690  115628      _x0030_5  _x0034_1113  _x0034_1590\n",
      "3  _x0032_015    3690   34091      _x0038_0  _x0034_1113  _x0034_1115\n",
      "4  _x0032_015    3690  112956      _x0038_0  _x0034_1113  _x0034_4810\n",
      "     SSG     시도  시군구        lat         lng\n",
      "0  11110  서울특별시  종로구  37.572950  126.979358\n",
      "1  11140  서울특별시   중구  37.564091  126.997940\n",
      "2  11170  서울특별시  용산구  37.538427  126.965444\n",
      "3  11200  서울특별시  성동구  37.563341  127.037103\n",
      "4  11215  서울특별시  광진구  37.538484  127.082294\n"
     ]
    }
   ],
   "source": [
    "data_base = result_data.copy()\n",
    "location_table = pd.read_excel(\"./data/SSG_processed.xlsx\").astype({\"SSG\": str})\n",
    "\n",
    "print(data_base.head())\n",
    "print(location_table.head())"
   ]
  },
  {
   "cell_type": "code",
   "execution_count": 147,
   "metadata": {},
   "outputs": [
    {
     "name": "stdout",
     "output_type": "stream",
     "text": [
      "11418 개의 데이터가 있습니다.\n",
      "처리중.......................끝!\n"
     ]
    }
   ],
   "source": [
    "distance = []\n",
    "\n",
    "print(str(len(data_base)) + \" 개의 데이터가 있습니다.\")\n",
    "print(\"처리중\", end='')\n",
    "for idx in range(len(data_base)):\n",
    "    if(idx%500 == 0):\n",
    "        print(\".\", end='')\n",
    "    INDI_SSG = data_base.iloc[idx][\"SSG\"]\n",
    "    INDI_SSG = INDI_SSG[5:].replace(\"_\",\"\")\n",
    "    INDI_SGG_idx = location_table.index[(location_table[\"SSG\"] == INDI_SSG)][0]\n",
    "    INDI_lat = location_table.iloc[INDI_SGG_idx][\"lat\"]\n",
    "    INDI_lng = location_table.iloc[INDI_SGG_idx][\"lng\"]\n",
    "\n",
    "    INST_SSG = data_base.iloc[idx][\"SSG_INST\"]\n",
    "    INST_SSG = INST_SSG[5:].replace(\"_\",\"\")\n",
    "    INST_SGG_idx = location_table.index[(location_table[\"SSG\"] == INST_SSG)][0]\n",
    "    INST_lat = location_table.iloc[INST_SGG_idx][\"lat\"]\n",
    "    INST_lng = location_table.iloc[INST_SGG_idx][\"lng\"]\n",
    "\n",
    "    cal_result = math.sqrt(((INDI_lat-INST_lat)*111)**2 + ((INDI_lng-INST_lng)*88.8)**2)\n",
    "    # print( \"{( \" + str(INDI_lat) + \" - \" + str(INST_lat) + \" ) x 111}^2 {(\" + str(INDI_lng) + \" - \" + str(INST_lng) + \") x 88.8 }**2\" )\n",
    "\n",
    "    distance.append(round(cal_result,3))\n",
    "print(\"끝!\")\n",
    "result = data_base.copy()\n",
    "result[\"DISTANCE\"] = distance"
   ]
  },
  {
   "cell_type": "code",
   "execution_count": 148,
   "metadata": {},
   "outputs": [
    {
     "name": "stdout",
     "output_type": "stream",
     "text": [
      "     STD_YYYY RN_INDI RN_INST MCARE_SUBJ_CD          SSG     SSG_INST  \\\n",
      "0  _x0032_015    3690   19717      _x0030_0  _x0034_1113  _x0034_4133   \n",
      "1  _x0032_015    3690   18640      _x0030_0  _x0034_1113  _x0034_1590   \n",
      "2  _x0032_015    3690  115628      _x0030_5  _x0034_1113  _x0034_1590   \n",
      "3  _x0032_015    3690   34091      _x0038_0  _x0034_1113  _x0034_1115   \n",
      "4  _x0032_015    3690  112956      _x0038_0  _x0034_1113  _x0034_4810   \n",
      "\n",
      "   DISTANCE  \n",
      "0    44.684  \n",
      "1    14.066  \n",
      "2    14.066  \n",
      "3     6.433  \n",
      "4    64.721  \n"
     ]
    }
   ],
   "source": [
    "print(result.head())\n",
    "result.to_excel(\"test3_distance.xlsx\")"
   ]
  }
 ],
 "metadata": {
  "interpreter": {
   "hash": "371b3782e1b011fc29cebf4d9a723fa9f3ca0ac76ba2fc7e31b95ca720de8eda"
  },
  "kernelspec": {
   "display_name": "Python 3.9.6 64-bit",
   "language": "python",
   "name": "python3"
  },
  "language_info": {
   "codemirror_mode": {
    "name": "ipython",
    "version": 3
   },
   "file_extension": ".py",
   "mimetype": "text/x-python",
   "name": "python",
   "nbconvert_exporter": "python",
   "pygments_lexer": "ipython3",
   "version": "3.8.11"
  },
  "orig_nbformat": 4
 },
 "nbformat": 4,
 "nbformat_minor": 2
}
